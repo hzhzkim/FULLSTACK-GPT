{
 "cells": [
  {
   "cell_type": "code",
   "execution_count": null,
   "id": "dbecc4d6",
   "metadata": {},
   "outputs": [
    {
     "name": "stdout",
     "output_type": "stream",
     "text": [
      "AI:\n",
      "        Director: Michel Gondry\n",
      "        Main Cast: Jim Carrey, Kate Winslet\n",
      "        Budget / Box Office: approx. $20M / $74.4M\n",
      "        Genre: Romantic Science Fiction Drama\n",
      "        Synopsis: After a painful breakup, a couple undergoes a procedure to erase each other from their memories, but as their memories are being erased, they realize their love for each other."
     ]
    },
    {
     "data": {
      "text/plain": [
       "AIMessageChunk(content='AI:\\n        Director: Michel Gondry\\n        Main Cast: Jim Carrey, Kate Winslet\\n        Budget / Box Office: approx. $20M / $74.4M\\n        Genre: Romantic Science Fiction Drama\\n        Synopsis: After a painful breakup, a couple undergoes a procedure to erase each other from their memories, but as their memories are being erased, they realize their love for each other.')"
      ]
     },
     "execution_count": 21,
     "metadata": {},
     "output_type": "execute_result"
    }
   ],
   "source": [
    "from langchain.chat_models import ChatOpenAI\n",
    "from langchain.prompts.few_shot import FewShotPromptTemplate\n",
    "from langchain.callbacks import StreamingStdOutCallbackHandler\n",
    "from langchain.prompts.prompt import PromptTemplate\n",
    "\n",
    "chat = ChatOpenAI(\n",
    "    model_name=\"gpt-3.5-turbo\",\n",
    "    temperature=0.1,\n",
    "    streaming=True,\n",
    "    callbacks=[\n",
    "        StreamingStdOutCallbackHandler(),\n",
    "    ],\n",
    ")\n",
    "\n",
    "movies = [\n",
    "    {\n",
    "        \"movie\": \"In the Mood for Love\",\n",
    "        \"info\": \"\"\"\n",
    "        Director: Wong Kar-wai\n",
    "        Main Cast: Tony Leung, Maggie Cheung\n",
    "        Budget / Box Office: approx. $3M / $17M\n",
    "        Genre: Romantic Drama (Melodrama)\n",
    "        Synopsis: In 1962 Hong Kong, two neighbors discover their spouses are having an affair and slowly develop feelings for each other, but never cross the line.\n",
    "        \"\"\",\n",
    "    },\n",
    "    {\n",
    "        \"movie\": \"No Country for Old Men\",\n",
    "        \"info\": \"\"\"\n",
    "        Director: Joel Coen & Ethan Coen\n",
    "        Main Cast: Tommy Lee Jones, Javier Bardem, Josh Brolin\n",
    "        Budget / Box Office: approx. $25M / $171.6M\n",
    "        Genre: Neo-Western Crime Thriller\n",
    "        Synopsis: A man who finds a briefcase full of cash in the desert becomes the target of a relentless hitman, while a weary sheriff tries to make sense of the growing violence.\n",
    "        \"\"\",\n",
    "    },\n",
    "    {\n",
    "        \"movie\": \"Cinema Paradiso\",\n",
    "        \"info\": \"\"\"\n",
    "        Director: Giuseppe Tornatore\n",
    "        Main Cast: Philippe Noiret, Jacques Perrin, Salvatore Cascio\n",
    "        Budget / Box Office: approx. $5M / $36M\n",
    "        Genre: Coming-of-Age Drama\n",
    "        Synopsis: In a small Sicilian village, a boy forms a deep friendship with the projectionist of the local movie theater, discovering his love for cinema and growing up through its memories.\n",
    "        \"\"\",\n",
    "    },\n",
    "]\n",
    "\n",
    "movie_prompt = PromptTemplate.from_template(\"Human: {movie}\\nAI:{info}\")\n",
    "\n",
    "prompt = FewShotPromptTemplate(\n",
    "    example_prompt=movie_prompt,\n",
    "    examples=movies,\n",
    "    suffix=\"Human: What do you know about {movie}?\",\n",
    "    input_variables=[\"movie\"],\n",
    ")\n",
    "\n",
    "chain = prompt | chat\n",
    "\n",
    "chain.invoke({\"movie\": \"Eternal Sunshine of The Spotless Mind\"})"
   ]
  }
 ],
 "metadata": {
  "kernelspec": {
   "display_name": "env (3.11.14)",
   "language": "python",
   "name": "python3"
  },
  "language_info": {
   "codemirror_mode": {
    "name": "ipython",
    "version": 3
   },
   "file_extension": ".py",
   "mimetype": "text/x-python",
   "name": "python",
   "nbconvert_exporter": "python",
   "pygments_lexer": "ipython3",
   "version": "3.11.14"
  }
 },
 "nbformat": 4,
 "nbformat_minor": 5
}
