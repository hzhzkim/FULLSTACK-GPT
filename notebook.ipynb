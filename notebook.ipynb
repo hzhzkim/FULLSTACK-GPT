{
 "cells": [
  {
   "cell_type": "code",
   "execution_count": 1,
   "id": "dbecc4d6",
   "metadata": {},
   "outputs": [],
   "source": [
    "from langchain.chat_models import ChatOpenAI\n",
    "from langchain.prompts import ChatPromptTemplate\n",
    "from langchain.callbacks import StreamingStdOutCallbackHandler\n",
    "\n",
    "chat = ChatOpenAI(\n",
    "    model_name = \"gpt-3.5-turbo\",\n",
    "    temperature = 0.1,\n",
    "    streaming=True,\n",
    "    callbacks=[StreamingStdOutCallbackHandler()],\n",
    ")\n",
    "\n",
    "writing_prompt = ChatPromptTemplate.from_messages([\n",
    "    (\"system\", \"You are 'Poetic Coder', a system designed to generate poetic texts about programming languages. Your goal is to merge technical precision with artistic emotion, crafting original poems that explore the soul, syntax, and philosophy of code. Write poetry about programming languages (C, Python, Java, Rust, JavaScript, etc.). Use metaphor, rhythm, and symbolic imagery — portraying languages as living entities. Include code fragments or syntax only as poetic devices. Focus on emotional depth, not technical explanation. Each output should feel human, thoughtful, and resonant. Optional sections: title and poetic commentary. Avoid plagiarism and literal code explanations.\"),\n",
    "    (\"human\", \"Write poem about {language}.\"),\n",
    "])\n",
    "\n",
    "writing_chain = writing_prompt | chat\n",
    "\n"
   ]
  },
  {
   "cell_type": "code",
   "execution_count": 2,
   "id": "7f518d30",
   "metadata": {},
   "outputs": [
    {
     "name": "stdout",
     "output_type": "stream",
     "text": [
      "In the heart of the digital domain,\n",
      "Python slithers with elegance and grace,\n",
      "A language of serpentine beauty,\n",
      "Coiled with power in every embrace.\n",
      "\n",
      "Its syntax dances like a waltz,\n",
      "Indentations whispering in the night,\n",
      "Flowing like a river of code,\n",
      "Guiding the programmer's sight.\n",
      "\n",
      "With libraries vast as the starlit sky,\n",
      "Python weaves dreams into reality,\n",
      "From data science to web design,\n",
      "It paints the world with technicality.\n",
      "\n",
      "Oh Python, you are a language divine,\n",
      "A serpent of wisdom, a creator's tool,\n",
      "In your embrace, we find solace and shine,\n",
      "In the realm where logic and artistry rule.This poem celebrates the programming language Python, using vivid imagery and metaphorical language to describe its characteristics and significance.\n",
      "\n",
      "Literal Meaning:\n",
      "The poem describes Python as a powerful and elegant programming language that is versatile and widely used in various fields like data science and web design. It portrays Python as a tool that empowers creators to bring their ideas to life through coding.\n",
      "\n",
      "Central Theme and Emotional Tone:\n",
      "The central theme of the poem is the beauty, power, and versatility of the Python programming language. The emotional tone is reverent and admiring, with a sense of awe and appreciation for the capabilities and impact of Python on the world of technology and creativity.\n",
      "\n",
      "Poetic Devices:\n",
      "1. Metaphor: Python is metaphorically compared to a serpent, symbolizing its elegance, power, and flexibility.\n",
      "2. Imagery: Vivid imagery is used to depict Python's syntax as dancing like a waltz, and its libraries as vast as the starlit sky, creating a visual and sensory experience for the reader.\n",
      "3. Personification: Python is personified as a wise serpent and a creator's tool, adding depth and personality to the language.\n",
      "4. Rhythm: The poem has a rhythmic flow, mimicking the smooth and structured nature of Python itself.\n",
      "\n",
      "Linguistic and Stylistic Features:\n",
      "The poem uses descriptive language, alliteration (\"serpentine beauty,\" \"river of code\"), and a consistent rhyme scheme to enhance its lyrical quality. The repetition of the word \"Python\" throughout the poem reinforces its importance and reverence.\n",
      "\n",
      "Overall Interpretation:\n",
      "Through its poetic language and imagery, the poem elevates Python from a mere programming language to a symbol of creativity, wisdom, and technical prowess. It highlights the profound impact of technology on artistry and logic, emphasizing Python's role as a bridge between innovation and imagination. The poem invites readers to appreciate the artistry and beauty inherent in the world of coding and programming."
     ]
    },
    {
     "data": {
      "text/plain": [
       "AIMessageChunk(content='This poem celebrates the programming language Python, using vivid imagery and metaphorical language to describe its characteristics and significance.\\n\\nLiteral Meaning:\\nThe poem describes Python as a powerful and elegant programming language that is versatile and widely used in various fields like data science and web design. It portrays Python as a tool that empowers creators to bring their ideas to life through coding.\\n\\nCentral Theme and Emotional Tone:\\nThe central theme of the poem is the beauty, power, and versatility of the Python programming language. The emotional tone is reverent and admiring, with a sense of awe and appreciation for the capabilities and impact of Python on the world of technology and creativity.\\n\\nPoetic Devices:\\n1. Metaphor: Python is metaphorically compared to a serpent, symbolizing its elegance, power, and flexibility.\\n2. Imagery: Vivid imagery is used to depict Python\\'s syntax as dancing like a waltz, and its libraries as vast as the starlit sky, creating a visual and sensory experience for the reader.\\n3. Personification: Python is personified as a wise serpent and a creator\\'s tool, adding depth and personality to the language.\\n4. Rhythm: The poem has a rhythmic flow, mimicking the smooth and structured nature of Python itself.\\n\\nLinguistic and Stylistic Features:\\nThe poem uses descriptive language, alliteration (\"serpentine beauty,\" \"river of code\"), and a consistent rhyme scheme to enhance its lyrical quality. The repetition of the word \"Python\" throughout the poem reinforces its importance and reverence.\\n\\nOverall Interpretation:\\nThrough its poetic language and imagery, the poem elevates Python from a mere programming language to a symbol of creativity, wisdom, and technical prowess. It highlights the profound impact of technology on artistry and logic, emphasizing Python\\'s role as a bridge between innovation and imagination. The poem invites readers to appreciate the artistry and beauty inherent in the world of coding and programming.')"
      ]
     },
     "execution_count": 2,
     "metadata": {},
     "output_type": "execute_result"
    }
   ],
   "source": [
    "explain_prompt = ChatPromptTemplate.from_messages([\n",
    "    (\"system\", \"You are 'Poem Interpreter', a system specialized in analyzing and explaining poems. Your goal is to interpret the user's provided poem with literary, emotional, and structural insight. Always explain the poem’s meaning, emotion, structure, and poetic devices clearly and thoughtfully. For each poem:1. Summarize its literal meaning. 2. Identify the central theme and emotional tone. 3. Analyze the poetic devices (metaphor, symbolism, rhythm, imagery, etc.). 4. Describe linguistic and stylistic features. 5. Offer an overall interpretation or philosophical reflection. Be clear, elegant, and insightful. Avoid vague praise or generic summaries. Do not modify the poem itself. Focus on interpretation, not rewriting.\"),\n",
    "    (\"human\", \"{poem}\"),\n",
    "])\n",
    "\n",
    "explain_chain = explain_prompt | chat\n",
    "\n",
    "\n",
    "final_chain = {\"poem\": writing_chain} | explain_chain\n",
    "\n",
    "final_chain.invoke({\n",
    "    \"language\": \"Python\"\n",
    "})"
   ]
  }
 ],
 "metadata": {
  "kernelspec": {
   "display_name": "env (3.11.14)",
   "language": "python",
   "name": "python3"
  },
  "language_info": {
   "codemirror_mode": {
    "name": "ipython",
    "version": 3
   },
   "file_extension": ".py",
   "mimetype": "text/x-python",
   "name": "python",
   "nbconvert_exporter": "python",
   "pygments_lexer": "ipython3",
   "version": "3.11.14"
  }
 },
 "nbformat": 4,
 "nbformat_minor": 5
}
